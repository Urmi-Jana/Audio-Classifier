{
  "nbformat": 4,
  "nbformat_minor": 0,
  "metadata": {
    "colab": {
      "provenance": [],
      "mount_file_id": "1CLHqa0qOhVMOMpe3E1bKv8qBjOGLN8oc",
      "authorship_tag": "ABX9TyNBRiIS8gt3qRozM7TgQK2n",
      "include_colab_link": true
    },
    "kernelspec": {
      "name": "python3",
      "display_name": "Python 3"
    },
    "language_info": {
      "name": "python"
    },
    "accelerator": "GPU",
    "gpuClass": "standard"
  },
  "cells": [
    {
      "cell_type": "markdown",
      "metadata": {
        "id": "view-in-github",
        "colab_type": "text"
      },
      "source": [
        "<a href=\"https://colab.research.google.com/github/Urmi-Jana/Audio-Classifier/blob/main/Audio_Classification.ipynb\" target=\"_parent\"><img src=\"https://colab.research.google.com/assets/colab-badge.svg\" alt=\"Open In Colab\"/></a>"
      ]
    },
    {
      "cell_type": "markdown",
      "source": [
        "Bird Call -> waveform -> spectrogram -> neural net processing -> classification"
      ],
      "metadata": {
        "id": "2CCY4QzTUzhQ"
      }
    },
    {
      "cell_type": "markdown",
      "source": [
        "1. Importing data"
      ],
      "metadata": {
        "id": "KVmwYh22U9ws"
      }
    },
    {
      "cell_type": "code",
      "execution_count": null,
      "metadata": {
        "id": "eJTQOj4z3hbV"
      },
      "outputs": [],
      "source": [
        "import os\n",
        "os.environ['KAGGLE_CONFIG_DIR'] = '/content/drive/MyDrive/.kaggle'"
      ]
    },
    {
      "cell_type": "code",
      "source": [
        "zip_path = '/content/drive/MyDrive/.kaggle/z-by-hp-unlocked-challenge-3-signal-processing.zip'\n",
        "# !'{zip_path}'  #copying into current directory\n",
        "\n",
        "!unzip -q '/content/drive/MyDrive/Kaggle/z-by-hp-unlocked-challenge-3-signal-processing.zip'"
      ],
      "metadata": {
        "id": "_S9y_fnPW0Nn",
        "colab": {
          "base_uri": "https://localhost:8080/"
        },
        "outputId": "5621474d-7316-48ae-86b3-54c366b54dd8"
      },
      "execution_count": null,
      "outputs": [
        {
          "output_type": "stream",
          "name": "stdout",
          "text": [
            "replace Forest Recordings/recording_00.mp3? [y]es, [n]o, [A]ll, [N]one, [r]ename: "
          ]
        }
      ]
    },
    {
      "cell_type": "markdown",
      "source": [
        "Install dependencies"
      ],
      "metadata": {
        "id": "tJ6dGmJ8HGwn"
      }
    },
    {
      "cell_type": "code",
      "source": [
        "!pip install tensorflow_io"
      ],
      "metadata": {
        "colab": {
          "base_uri": "https://localhost:8080/"
        },
        "id": "t4fxBGP-mzbz",
        "outputId": "9378d77b-e4fe-47be-ee59-7b65dea8458c"
      },
      "execution_count": null,
      "outputs": [
        {
          "output_type": "stream",
          "name": "stdout",
          "text": [
            "Looking in indexes: https://pypi.org/simple, https://us-python.pkg.dev/colab-wheels/public/simple/\n",
            "Requirement already satisfied: tensorflow_io in /usr/local/lib/python3.9/dist-packages (0.31.0)\n",
            "Requirement already satisfied: tensorflow-io-gcs-filesystem==0.31.0 in /usr/local/lib/python3.9/dist-packages (from tensorflow_io) (0.31.0)\n"
          ]
        }
      ]
    },
    {
      "cell_type": "code",
      "source": [
        "import tensorflow as tf\n",
        "from matplotlib import pyplot as plt\n",
        "import tensorflow_io as tfio"
      ],
      "metadata": {
        "id": "v8ZvoMBBFwzi"
      },
      "execution_count": null,
      "outputs": []
    },
    {
      "cell_type": "markdown",
      "source": [
        "Setup the Dataloading function"
      ],
      "metadata": {
        "id": "T4AErJf2IJKo"
      }
    },
    {
      "cell_type": "code",
      "source": [
        "def load_data(filename):\n",
        "  content = tf.io.read_file(filename) #loads encoded file\n",
        "  wav_file, sample_rate = tf.audio.decode_wav(content, desired_channels = 1) #decodes to one channel\n",
        "  # each value gives the amplitude per second (if that makes any sense)\n",
        "  wav = tf.squeeze(wav_file, axis = 1) #remove the trailing axis\n",
        "  sample_rate = tf.cast(sample_rate, dtype = tf.int64) # typecasting \n",
        "  wav_file = tfio.audio.resample(wav_file, rate_in = sample_rate, rate_out = 16000) #changing amplitude of audio signal\n",
        "  return wav_file"
      ],
      "metadata": {
        "id": "sWe334jAIIrh"
      },
      "execution_count": null,
      "outputs": []
    },
    {
      "cell_type": "code",
      "source": [
        "(tf.zeros([50000] - tf.shape(load_data('/content/Parsed_Capuchinbird_Clips/XC114131-0.wav')))) "
      ],
      "metadata": {
        "colab": {
          "base_uri": "https://localhost:8080/"
        },
        "id": "wbV3tB-iyYhS",
        "outputId": "88f09aed-9c8a-40fd-df0b-c06aadb79c3a"
      },
      "execution_count": null,
      "outputs": [
        {
          "output_type": "execute_result",
          "data": {
            "text/plain": [
              "<tf.Tensor: shape=(10000, 49999), dtype=float32, numpy=\n",
              "array([[0., 0., 0., ..., 0., 0., 0.],\n",
              "       [0., 0., 0., ..., 0., 0., 0.],\n",
              "       [0., 0., 0., ..., 0., 0., 0.],\n",
              "       ...,\n",
              "       [0., 0., 0., ..., 0., 0., 0.],\n",
              "       [0., 0., 0., ..., 0., 0., 0.],\n",
              "       [0., 0., 0., ..., 0., 0., 0.]], dtype=float32)>"
            ]
          },
          "metadata": {},
          "execution_count": 9
        }
      ]
    },
    {
      "cell_type": "markdown",
      "source": [],
      "metadata": {
        "id": "igucGPK6xrgp"
      }
    },
    {
      "cell_type": "code",
      "source": [
        "wave = \"/content/Parsed_Capuchinbird_Clips/XC114131-0.wav\"\n",
        "non_wave = \"/content/Parsed_Not_Capuchinbird_Clips/Crickets-chirping-0.wav\""
      ],
      "metadata": {
        "id": "U4Ha2wEeJ8xH"
      },
      "execution_count": null,
      "outputs": []
    },
    {
      "cell_type": "code",
      "source": [
        "wave = load_data(wave)\n",
        "non_wave = load_data(non_wave)\n",
        "plt.plot(non_wave)\n",
        "plt.plot(wave)\n",
        "\n",
        "plt.show()"
      ],
      "metadata": {
        "colab": {
          "base_uri": "https://localhost:8080/",
          "height": 265
        },
        "id": "QKbC9MmHo4Ne",
        "outputId": "619cb262-3801-49a4-e30d-f72d2664c0b6"
      },
      "execution_count": null,
      "outputs": [
        {
          "output_type": "display_data",
          "data": {
            "text/plain": [
              "<Figure size 432x288 with 1 Axes>"
            ],
            "image/png": "[encoded data removed]"
          },
          "metadata": {
            "needs_background": "light"
          }
        }
      ]
    },
    {
      "cell_type": "markdown",
      "source": [
        "Create **Dataset** using Tensorflow Dataset library"
      ],
      "metadata": {
        "id": "5L7BF32UpStq"
      }
    },
    {
      "cell_type": "markdown",
      "source": [
        "Define filepaths"
      ],
      "metadata": {
        "id": "iqK0wPVqp68A"
      }
    },
    {
      "cell_type": "code",
      "source": [
        "capuchin = os.path.join('Parsed_Capuchinbird_Clips')\n",
        "not_capuchin = os.path.join('Parsed_Not_Capuchinbird_Clips')"
      ],
      "metadata": {
        "id": "ny1inRX6HVWY"
      },
      "execution_count": null,
      "outputs": []
    },
    {
      "cell_type": "code",
      "source": [
        "#gives a set of files as a string in a tf dataset format to preprocess\n",
        "cap = tf.data.Dataset.list_files(capuchin + '/*.wav')\n",
        "not_cap = tf.data.Dataset.list_files(not_capuchin + '/*.wav')"
      ],
      "metadata": {
        "id": "UOXah7opp8rb"
      },
      "execution_count": null,
      "outputs": []
    },
    {
      "cell_type": "markdown",
      "source": [
        "Label dataset and merge with files"
      ],
      "metadata": {
        "id": "XkMtX1741bQk"
      }
    },
    {
      "cell_type": "code",
      "source": [
        "cap = tf.data.Dataset.zip((cap, tf.data.Dataset.from_tensor_slices(tf.ones(len(cap)))))\n",
        "not_cap = tf.data.Dataset.zip((not_cap, tf.data.Dataset.from_tensor_slices(tf.zeros(len(not_cap)))))\n"
      ],
      "metadata": {
        "id": "NGmSgaLjqRjW"
      },
      "execution_count": null,
      "outputs": []
    },
    {
      "cell_type": "code",
      "source": [
        "data = not_cap.concatenate(cap)"
      ],
      "metadata": {
        "id": "NFzaiHTpGWiX"
      },
      "execution_count": null,
      "outputs": []
    },
    {
      "cell_type": "code",
      "source": [
        "data = data.shuffle(1000)"
      ],
      "metadata": {
        "id": "j7nUmBb8rFeP"
      },
      "execution_count": null,
      "outputs": []
    },
    {
      "cell_type": "code",
      "source": [
        "data.as_numpy_iterator().next()"
      ],
      "metadata": {
        "colab": {
          "base_uri": "https://localhost:8080/"
        },
        "id": "at3NyPqQv3tg",
        "outputId": "8a425857-df94-40cf-d149-a1894d7cf3d0"
      },
      "execution_count": null,
      "outputs": [
        {
          "output_type": "execute_result",
          "data": {
            "text/plain": [
              "(b'Parsed_Capuchinbird_Clips/XC227468-1.wav', 1.0)"
            ]
          },
          "metadata": {},
          "execution_count": 17
        }
      ]
    },
    {
      "cell_type": "markdown",
      "source": [
        "Calculate average of capuchin bird (so that we can slice the entire recording effectively to check)"
      ],
      "metadata": {
        "id": "k4BfIV5R4XDC"
      }
    },
    {
      "cell_type": "markdown",
      "source": [
        "calculate no. of complete wave cycles"
      ],
      "metadata": {
        "id": "-oprp40f4f5N"
      }
    },
    {
      "cell_type": "code",
      "source": [
        "lengths = []\n",
        "for file_name in os.listdir(capuchin):\n",
        "  tensor_wave = load_data(os.path.join(capuchin, file_name))\n",
        "  lengths.append(len(tensor_wave))"
      ],
      "metadata": {
        "colab": {
          "base_uri": "https://localhost:8080/"
        },
        "id": "Zy7OzdfP32AW",
        "outputId": "2eb4b8d3-8ab5-4ab8-d1b8-d904ac6904e4"
      },
      "execution_count": null,
      "outputs": [
        {
          "output_type": "stream",
          "name": "stderr",
          "text": [
            "WARNING:tensorflow:5 out of the last 5 calls to <function pfor.<locals>.f at 0x7efc5a9f38b0> triggered tf.function retracing. Tracing is expensive and the excessive number of tracings could be due to (1) creating @tf.function repeatedly in a loop, (2) passing tensors with different shapes, (3) passing Python objects instead of tensors. For (1), please define your @tf.function outside of the loop. For (2), @tf.function has reduce_retracing=True option that can avoid unnecessary retracing. For (3), please refer to https://www.tensorflow.org/guide/function#controlling_retracing and https://www.tensorflow.org/api_docs/python/tf/function for  more details.\n",
            "WARNING:tensorflow:6 out of the last 6 calls to <function pfor.<locals>.f at 0x7efc5a9f3790> triggered tf.function retracing. Tracing is expensive and the excessive number of tracings could be due to (1) creating @tf.function repeatedly in a loop, (2) passing tensors with different shapes, (3) passing Python objects instead of tensors. For (1), please define your @tf.function outside of the loop. For (2), @tf.function has reduce_retracing=True option that can avoid unnecessary retracing. For (3), please refer to https://www.tensorflow.org/guide/function#controlling_retracing and https://www.tensorflow.org/api_docs/python/tf/function for  more details.\n"
          ]
        }
      ]
    },
    {
      "cell_type": "code",
      "source": [
        "# find the min and max length to effectively select how much of the clip we want to examine\n",
        "tf.math.reduce_min(lengths), tf.math.reduce_max(lengths), "
      ],
      "metadata": {
        "colab": {
          "base_uri": "https://localhost:8080/"
        },
        "id": "AlOgvJmHmsQ-",
        "outputId": "79e42ea8-0835-4546-abbd-c6fa2bdf57e8"
      },
      "execution_count": null,
      "outputs": [
        {
          "output_type": "execute_result",
          "data": {
            "text/plain": [
              "(<tf.Tensor: shape=(), dtype=int32, numpy=32000>,\n",
              " <tf.Tensor: shape=(), dtype=int32, numpy=80000>)"
            ]
          },
          "metadata": {},
          "execution_count": 19
        }
      ]
    },
    {
      "cell_type": "code",
      "source": [
        "#average clip time =  average wave cycle duration/frequency (total wavecycles/cycles in one second)\n",
        "tf.math.reduce_mean(lengths)/16000"
      ],
      "metadata": {
        "id": "GwqaudD75D5L",
        "colab": {
          "base_uri": "https://localhost:8080/"
        },
        "outputId": "c8c33cc1-18a1-4b76-f248-472e9b13e757"
      },
      "execution_count": null,
      "outputs": [
        {
          "output_type": "execute_result",
          "data": {
            "text/plain": [
              "<tf.Tensor: shape=(), dtype=float64, numpy=3.38475>"
            ]
          },
          "metadata": {},
          "execution_count": 20
        }
      ]
    },
    {
      "cell_type": "markdown",
      "source": [
        "Preprocessing function to convert to spectrogram"
      ],
      "metadata": {
        "id": "O3sZjjbCmdjR"
      }
    },
    {
      "cell_type": "code",
      "source": [
        "def preprocess(file_path, label):\n",
        "  wav = load_data(file_path)\n",
        "  wav = wav[:50000] # between min and max values of lengths\n",
        "  #if the clip is shorter, pad the remaining space with zeros\n",
        "  wav = tf.squeeze((tf.pad(wav, [[0, 50000 - tf.shape(wav)[0]], [0,0]], mode='CONSTANT')))\n",
        "  spectrogram = tf.signal.stft(wav, frame_length = 512, frame_step = 8)\n",
        "  spectrogram = tf.abs(spectrogram) #take only positive values\n",
        "  spectrogram = tf.expand_dims(spectrogram, axis = 2) \n",
        "  #expand the dimension so that the CV model takes it as channel input\n",
        "  #produces channel length as 1. spectrogram gives shape(x,y, 1)\n",
        "  return spectrogram, label"
      ],
      "metadata": {
        "id": "unTvJDRYlGwq"
      },
      "execution_count": null,
      "outputs": []
    },
    {
      "cell_type": "code",
      "source": [
        "file_path, label = data.shuffle(buffer_size = 10000).as_numpy_iterator().next()\n",
        "spectrogram, label = preprocess(file_path, label)\n",
        "plt.figure(figsize = (10, 5))\n",
        "# plt.figure().set_figheight(20)\n",
        "\n",
        "plt.imshow(tf.transpose(spectrogram)[0], aspect=\"auto\")\n",
        "plt.xlabel(\"time\")\n",
        "plt.show()\n"
      ],
      "metadata": {
        "id": "7auB-bmFpUoD",
        "colab": {
          "base_uri": "https://localhost:8080/",
          "height": 337
        },
        "outputId": "f8431cf8-85d3-443e-8de8-316b070e3ef5"
      },
      "execution_count": null,
      "outputs": [
        {
          "output_type": "display_data",
          "data": {
            "text/plain": [
              "<Figure size 720x360 with 1 Axes>"
            ],
            "image/png": "[encoded data removed]"
          },
          "metadata": {
            "needs_background": "light"
          }
        }
      ]
    },
    {
      "cell_type": "markdown",
      "source": [
        "Creating Training and testing data"
      ],
      "metadata": {
        "id": "vOye4Ny48jxk"
      }
    },
    {
      "cell_type": "markdown",
      "source": [
        "create data pipeline (MaCShuBaP)"
      ],
      "metadata": {
        "id": "ULAYx1KR9P_z"
      }
    },
    {
      "cell_type": "code",
      "source": [
        "data = data.map(preprocess) #apply the function on all elements of the dataset and create new dataset\n",
        "data = data.cache()\n",
        "data = data.shuffle(10000)\n",
        "data = data.batch(16) # separate into batches\n",
        "data = data.prefetch(8) #allows later elements to be prepared while current is being processed"
      ],
      "metadata": {
        "colab": {
          "base_uri": "https://localhost:8080/"
        },
        "id": "XJEjWXr0TrPU",
        "outputId": "8df336d2-c90b-469c-b378-b5312911e71d"
      },
      "execution_count": null,
      "outputs": [
        {
          "output_type": "stream",
          "name": "stderr",
          "text": [
            "WARNING:tensorflow:From /usr/local/lib/python3.9/dist-packages/tensorflow/python/autograph/pyct/static_analysis/liveness.py:83: Analyzer.lamba_check (from tensorflow.python.autograph.pyct.static_analysis.liveness) is deprecated and will be removed after 2023-09-23.\n",
            "Instructions for updating:\n",
            "Lambda fuctions will be no more assumed to be used in the statement where they are used, or at least in the same block. https://github.com/tensorflow/tensorflow/issues/56089\n",
            "WARNING:tensorflow:Using a while_loop for converting IO>AudioResample cause there is no registered converter for this op.\n"
          ]
        }
      ]
    },
    {
      "cell_type": "markdown",
      "source": [
        "Training and testing datasets"
      ],
      "metadata": {
        "id": "qOl7XZXn_mCk"
      }
    },
    {
      "cell_type": "code",
      "source": [
        "# we dont use train_test split as there are no separate dataset for labels\n",
        "# as size of one batch is 51, we take 70% as training\n",
        "train = data.take(35)\n",
        "test = data.skip(35).take(16)"
      ],
      "metadata": {
        "id": "LljlsMDD-lPL"
      },
      "execution_count": null,
      "outputs": []
    },
    {
      "cell_type": "code",
      "source": [
        "samples.shape"
      ],
      "metadata": {
        "colab": {
          "base_uri": "https://localhost:8080/"
        },
        "id": "OzELSqd5Fi7E",
        "outputId": "f144fa71-ebf9-4003-d5d2-ffefe05eff4e"
      },
      "execution_count": null,
      "outputs": [
        {
          "output_type": "execute_result",
          "data": {
            "text/plain": [
              "(16, 6187, 257, 1)"
            ]
          },
          "metadata": {},
          "execution_count": 27
        }
      ]
    },
    {
      "cell_type": "markdown",
      "source": [
        "Build model"
      ],
      "metadata": {
        "id": "--RUbl1ZIzVZ"
      }
    },
    {
      "cell_type": "code",
      "source": [
        "from tensorflow.keras.models import Sequential\n",
        "from tensorflow.keras.layers import Conv2D, Dense, Flatten"
      ],
      "metadata": {
        "id": "jGJHJy1UGOX6"
      },
      "execution_count": null,
      "outputs": []
    },
    {
      "cell_type": "code",
      "source": [
        "model = Sequential()\n",
        "model.add(Conv2D(16, (3,3), activation = 'relu', input_shape=(6187, 257, 1)))\n",
        "model.add(Conv2D(16, (3,3), activation = 'relu'))\n",
        "# model.add(Conv2D(8, (3,3), activation = 'relu'))\n",
        "model.add(Flatten())\n",
        "model.add(Dense(128, activation='relu'))\n",
        "# model.add(Dense(8, activation='relu'))\n",
        "model.add(Dense(1, activation='sigmoid'))"
      ],
      "metadata": {
        "colab": {
          "base_uri": "https://localhost:8080/",
          "height": 504
        },
        "id": "yOs4hy7DMG8M",
        "outputId": "f162c676-7b02-424f-c525-16646e30a63a"
      },
      "execution_count": null,
      "outputs": [
        {
          "output_type": "error",
          "ename": "ResourceExhaustedError",
          "evalue": "ignored",
          "traceback": [
            "\u001b[0;31m---------------------------------------------------------------------------\u001b[0m",
            "\u001b[0;31mResourceExhaustedError\u001b[0m                    Traceback (most recent call last)",
            "\u001b[0;32m<ipython-input-29-a7d979119c46>\u001b[0m in \u001b[0;36m<module>\u001b[0;34m\u001b[0m\n\u001b[1;32m      4\u001b[0m \u001b[0;31m# model.add(Conv2D(8, (3,3), activation = 'relu'))\u001b[0m\u001b[0;34m\u001b[0m\u001b[0;34m\u001b[0m\u001b[0m\n\u001b[1;32m      5\u001b[0m \u001b[0mmodel\u001b[0m\u001b[0;34m.\u001b[0m\u001b[0madd\u001b[0m\u001b[0;34m(\u001b[0m\u001b[0mFlatten\u001b[0m\u001b[0;34m(\u001b[0m\u001b[0;34m)\u001b[0m\u001b[0;34m)\u001b[0m\u001b[0;34m\u001b[0m\u001b[0;34m\u001b[0m\u001b[0m\n\u001b[0;32m----> 6\u001b[0;31m \u001b[0mmodel\u001b[0m\u001b[0;34m.\u001b[0m\u001b[0madd\u001b[0m\u001b[0;34m(\u001b[0m\u001b[0mDense\u001b[0m\u001b[0;34m(\u001b[0m\u001b[0;36m128\u001b[0m\u001b[0;34m,\u001b[0m \u001b[0mactivation\u001b[0m\u001b[0;34m=\u001b[0m\u001b[0;34m'relu'\u001b[0m\u001b[0;34m)\u001b[0m\u001b[0;34m)\u001b[0m\u001b[0;34m\u001b[0m\u001b[0;34m\u001b[0m\u001b[0m\n\u001b[0m\u001b[1;32m      7\u001b[0m \u001b[0;31m# model.add(Dense(8, activation='relu'))\u001b[0m\u001b[0;34m\u001b[0m\u001b[0;34m\u001b[0m\u001b[0m\n\u001b[1;32m      8\u001b[0m \u001b[0mmodel\u001b[0m\u001b[0;34m.\u001b[0m\u001b[0madd\u001b[0m\u001b[0;34m(\u001b[0m\u001b[0mDense\u001b[0m\u001b[0;34m(\u001b[0m\u001b[0;36m1\u001b[0m\u001b[0;34m,\u001b[0m \u001b[0mactivation\u001b[0m\u001b[0;34m=\u001b[0m\u001b[0;34m'sigmoid'\u001b[0m\u001b[0;34m)\u001b[0m\u001b[0;34m)\u001b[0m\u001b[0;34m\u001b[0m\u001b[0;34m\u001b[0m\u001b[0m\n",
            "\u001b[0;32m/usr/local/lib/python3.9/dist-packages/tensorflow/python/trackable/base.py\u001b[0m in \u001b[0;36m_method_wrapper\u001b[0;34m(self, *args, **kwargs)\u001b[0m\n\u001b[1;32m    203\u001b[0m     \u001b[0mself\u001b[0m\u001b[0;34m.\u001b[0m\u001b[0m_self_setattr_tracking\u001b[0m \u001b[0;34m=\u001b[0m \u001b[0;32mFalse\u001b[0m  \u001b[0;31m# pylint: disable=protected-access\u001b[0m\u001b[0;34m\u001b[0m\u001b[0;34m\u001b[0m\u001b[0m\n\u001b[1;32m    204\u001b[0m     \u001b[0;32mtry\u001b[0m\u001b[0;34m:\u001b[0m\u001b[0;34m\u001b[0m\u001b[0;34m\u001b[0m\u001b[0m\n\u001b[0;32m--> 205\u001b[0;31m       \u001b[0mresult\u001b[0m \u001b[0;34m=\u001b[0m \u001b[0mmethod\u001b[0m\u001b[0;34m(\u001b[0m\u001b[0mself\u001b[0m\u001b[0;34m,\u001b[0m \u001b[0;34m*\u001b[0m\u001b[0margs\u001b[0m\u001b[0;34m,\u001b[0m \u001b[0;34m**\u001b[0m\u001b[0mkwargs\u001b[0m\u001b[0;34m)\u001b[0m\u001b[0;34m\u001b[0m\u001b[0;34m\u001b[0m\u001b[0m\n\u001b[0m\u001b[1;32m    206\u001b[0m     \u001b[0;32mfinally\u001b[0m\u001b[0;34m:\u001b[0m\u001b[0;34m\u001b[0m\u001b[0;34m\u001b[0m\u001b[0m\n\u001b[1;32m    207\u001b[0m       \u001b[0mself\u001b[0m\u001b[0;34m.\u001b[0m\u001b[0m_self_setattr_tracking\u001b[0m \u001b[0;34m=\u001b[0m \u001b[0mprevious_value\u001b[0m  \u001b[0;31m# pylint: disable=protected-access\u001b[0m\u001b[0;34m\u001b[0m\u001b[0;34m\u001b[0m\u001b[0m\n",
            "\u001b[0;32m/usr/local/lib/python3.9/dist-packages/keras/utils/traceback_utils.py\u001b[0m in \u001b[0;36merror_handler\u001b[0;34m(*args, **kwargs)\u001b[0m\n\u001b[1;32m     68\u001b[0m             \u001b[0;31m# To get the full stack trace, call:\u001b[0m\u001b[0;34m\u001b[0m\u001b[0;34m\u001b[0m\u001b[0m\n\u001b[1;32m     69\u001b[0m             \u001b[0;31m# `tf.debugging.disable_traceback_filtering()`\u001b[0m\u001b[0;34m\u001b[0m\u001b[0;34m\u001b[0m\u001b[0m\n\u001b[0;32m---> 70\u001b[0;31m             \u001b[0;32mraise\u001b[0m \u001b[0me\u001b[0m\u001b[0;34m.\u001b[0m\u001b[0mwith_traceback\u001b[0m\u001b[0;34m(\u001b[0m\u001b[0mfiltered_tb\u001b[0m\u001b[0;34m)\u001b[0m \u001b[0;32mfrom\u001b[0m \u001b[0;32mNone\u001b[0m\u001b[0;34m\u001b[0m\u001b[0;34m\u001b[0m\u001b[0m\n\u001b[0m\u001b[1;32m     71\u001b[0m         \u001b[0;32mfinally\u001b[0m\u001b[0;34m:\u001b[0m\u001b[0;34m\u001b[0m\u001b[0;34m\u001b[0m\u001b[0m\n\u001b[1;32m     72\u001b[0m             \u001b[0;32mdel\u001b[0m \u001b[0mfiltered_tb\u001b[0m\u001b[0;34m\u001b[0m\u001b[0;34m\u001b[0m\u001b[0m\n",
            "\u001b[0;32m/usr/local/lib/python3.9/dist-packages/keras/backend.py\u001b[0m in \u001b[0;36mrandom_uniform\u001b[0;34m(self, shape, minval, maxval, dtype, nonce)\u001b[0m\n\u001b[1;32m   2098\u001b[0m             \u001b[0;32mif\u001b[0m \u001b[0mnonce\u001b[0m\u001b[0;34m:\u001b[0m\u001b[0;34m\u001b[0m\u001b[0;34m\u001b[0m\u001b[0m\n\u001b[1;32m   2099\u001b[0m                 \u001b[0mseed\u001b[0m \u001b[0;34m=\u001b[0m \u001b[0mtf\u001b[0m\u001b[0;34m.\u001b[0m\u001b[0mrandom\u001b[0m\u001b[0;34m.\u001b[0m\u001b[0mexperimental\u001b[0m\u001b[0;34m.\u001b[0m\u001b[0mstateless_fold_in\u001b[0m\u001b[0;34m(\u001b[0m\u001b[0mseed\u001b[0m\u001b[0;34m,\u001b[0m \u001b[0mnonce\u001b[0m\u001b[0;34m)\u001b[0m\u001b[0;34m\u001b[0m\u001b[0;34m\u001b[0m\u001b[0m\n\u001b[0;32m-> 2100\u001b[0;31m             return tf.random.stateless_uniform(\n\u001b[0m\u001b[1;32m   2101\u001b[0m                 \u001b[0mshape\u001b[0m\u001b[0;34m=\u001b[0m\u001b[0mshape\u001b[0m\u001b[0;34m,\u001b[0m\u001b[0;34m\u001b[0m\u001b[0;34m\u001b[0m\u001b[0m\n\u001b[1;32m   2102\u001b[0m                 \u001b[0mminval\u001b[0m\u001b[0;34m=\u001b[0m\u001b[0mminval\u001b[0m\u001b[0;34m,\u001b[0m\u001b[0;34m\u001b[0m\u001b[0;34m\u001b[0m\u001b[0m\n",
            "\u001b[0;31mResourceExhaustedError\u001b[0m: {{function_node __wrapped__StatelessRandomUniformV2_device_/job:localhost/replica:0/task:0/device:GPU:0}} OOM when allocating tensor with shape[25028784,128] and type float on /job:localhost/replica:0/task:0/device:GPU:0 by allocator GPU_0_bfc [Op:StatelessRandomUniformV2]"
          ]
        }
      ]
    },
    {
      "cell_type": "code",
      "source": [],
      "metadata": {
        "id": "FYhK7SI1Mz3r"
      },
      "execution_count": null,
      "outputs": []
    }
  ]
}